{
  "cells": [
    {
      "cell_type": "code",
      "execution_count": 1,
      "id": "4e852dfb",
      "metadata": {
        "colab": {
          "base_uri": "https://localhost:8080/"
        },
        "id": "4e852dfb",
        "outputId": "c6ad0d8f-f768-4ed9-bad2-1c9b47e7ca41"
      },
      "outputs": [
        {
          "output_type": "stream",
          "name": "stdout",
          "text": [
            "Looking in indexes: https://pypi.org/simple, https://us-python.pkg.dev/colab-wheels/public/simple/\n",
            "Requirement already satisfied: nltk in /usr/local/lib/python3.8/dist-packages (3.7)\n",
            "Requirement already satisfied: joblib in /usr/local/lib/python3.8/dist-packages (from nltk) (1.2.0)\n",
            "Requirement already satisfied: click in /usr/local/lib/python3.8/dist-packages (from nltk) (7.1.2)\n",
            "Requirement already satisfied: tqdm in /usr/local/lib/python3.8/dist-packages (from nltk) (4.64.1)\n",
            "Requirement already satisfied: regex>=2021.8.3 in /usr/local/lib/python3.8/dist-packages (from nltk) (2022.6.2)\n"
          ]
        }
      ],
      "source": [
        "!pip install nltk\n"
      ]
    },
    {
      "cell_type": "code",
      "execution_count": 4,
      "id": "cf008dbb",
      "metadata": {
        "id": "cf008dbb"
      },
      "outputs": [],
      "source": [
        "paragraph=\"\"\"\n",
        "Natural language processing (NLP) refers to the branch of computer science—and more specifically, the branch of artificial intelligence or AI—concerned with giving computers the ability to understand text and spoken words in much the same way human beings can.\n",
        "\n",
        "NLP combines computational linguistics—rule-based modeling of human language—with statistical, machine learning, and deep learning models. Together, these technologies enable computers to process human language in the form of text or voice data and to ‘understand’ its full meaning, complete with the speaker or writer’s intent and sentiment.\n",
        "\n",
        "NLP drives computer programs that translate text from one language to another, respond to spoken commands, and summarize large volumes of text rapidly—even in real time. There’s a good chance you’ve interacted with NLP in the form of voice-operated GPS systems, digital assistants, speech-to-text dictation software, customer service chatbots, and other consumer conveniences. But NLP also plays a growing role in enterprise solutions that help streamline business operations, increase employee productivity, and simplify mission-critical business processes. Human language is filled with ambiguities that make it incredibly difficult to write software that accurately determines the intended meaning of text or voice data. Homonyms, homophones, sarcasm, idioms, metaphors, grammar and usage exceptions, variations in sentence structure—these just a few of the irregularities of human language that take humans years to learn, but that programmers must teach natural language-driven applications to recognize and understand accurately from the start, if those applications are going to be useful.\n",
        "\"\"\""
      ]
    },
    {
      "cell_type": "code",
      "execution_count": 5,
      "id": "7ed01ebe",
      "metadata": {
        "colab": {
          "base_uri": "https://localhost:8080/",
          "height": 139
        },
        "id": "7ed01ebe",
        "outputId": "0fe9a1a5-66e2-4f1a-a105-12cdec71c42c"
      },
      "outputs": [
        {
          "output_type": "execute_result",
          "data": {
            "text/plain": [
              "'\\nNatural language processing (NLP) refers to the branch of computer science—and more specifically, the branch of artificial intelligence or AI—concerned with giving computers the ability to understand text and spoken words in much the same way human beings can.\\n\\nNLP combines computational linguistics—rule-based modeling of human language—with statistical, machine learning, and deep learning models. Together, these technologies enable computers to process human language in the form of text or voice data and to ‘understand’ its full meaning, complete with the speaker or writer’s intent and sentiment.\\n\\nNLP drives computer programs that translate text from one language to another, respond to spoken commands, and summarize large volumes of text rapidly—even in real time. There’s a good chance you’ve interacted with NLP in the form of voice-operated GPS systems, digital assistants, speech-to-text dictation software, customer service chatbots, and other consumer conveniences. But NLP also plays a growing role in enterprise solutions that help streamline business operations, increase employee productivity, and simplify mission-critical business processes. Human language is filled with ambiguities that make it incredibly difficult to write software that accurately determines the intended meaning of text or voice data. Homonyms, homophones, sarcasm, idioms, metaphors, grammar and usage exceptions, variations in sentence structure—these just a few of the irregularities of human language that take humans years to learn, but that programmers must teach natural language-driven applications to recognize and understand accurately from the start, if those applications are going to be useful.\\n'"
            ],
            "application/vnd.google.colaboratory.intrinsic+json": {
              "type": "string"
            }
          },
          "metadata": {},
          "execution_count": 5
        }
      ],
      "source": [
        "paragraph"
      ]
    },
    {
      "cell_type": "code",
      "execution_count": 6,
      "id": "a413c38f",
      "metadata": {
        "id": "a413c38f"
      },
      "outputs": [],
      "source": [
        "import nltk\n",
        "from nltk.stem import PorterStemmer\n",
        "from nltk.corpus import stopwords"
      ]
    },
    {
      "cell_type": "code",
      "execution_count": 7,
      "id": "d3e00259",
      "metadata": {
        "colab": {
          "base_uri": "https://localhost:8080/"
        },
        "id": "d3e00259",
        "outputId": "113dd9d5-d9b9-47a0-a2f1-48d996987c34"
      },
      "outputs": [
        {
          "output_type": "stream",
          "name": "stderr",
          "text": [
            "[nltk_data] Downloading package punkt to /root/nltk_data...\n",
            "[nltk_data]   Unzipping tokenizers/punkt.zip.\n"
          ]
        }
      ],
      "source": [
        "## tokenization-- converts paragraph-sentences-words\n",
        "nltk.download('punkt')\n",
        "sentences=nltk.sent_tokenize(paragraph)"
      ]
    },
    {
      "cell_type": "code",
      "execution_count": 8,
      "id": "3d0db3d4",
      "metadata": {
        "colab": {
          "base_uri": "https://localhost:8080/"
        },
        "id": "3d0db3d4",
        "outputId": "5a795d34-bb36-43bf-df19-02964ec52a68"
      },
      "outputs": [
        {
          "output_type": "stream",
          "name": "stdout",
          "text": [
            "['\\nNatural language processing (NLP) refers to the branch of computer science—and more specifically, the branch of artificial intelligence or AI—concerned with giving computers the ability to understand text and spoken words in much the same way human beings can.', 'NLP combines computational linguistics—rule-based modeling of human language—with statistical, machine learning, and deep learning models.', 'Together, these technologies enable computers to process human language in the form of text or voice data and to ‘understand’ its full meaning, complete with the speaker or writer’s intent and sentiment.', 'NLP drives computer programs that translate text from one language to another, respond to spoken commands, and summarize large volumes of text rapidly—even in real time.', 'There’s a good chance you’ve interacted with NLP in the form of voice-operated GPS systems, digital assistants, speech-to-text dictation software, customer service chatbots, and other consumer conveniences.', 'But NLP also plays a growing role in enterprise solutions that help streamline business operations, increase employee productivity, and simplify mission-critical business processes.', 'Human language is filled with ambiguities that make it incredibly difficult to write software that accurately determines the intended meaning of text or voice data.', 'Homonyms, homophones, sarcasm, idioms, metaphors, grammar and usage exceptions, variations in sentence structure—these just a few of the irregularities of human language that take humans years to learn, but that programmers must teach natural language-driven applications to recognize and understand accurately from the start, if those applications are going to be useful.']\n"
          ]
        }
      ],
      "source": [
        "print(sentences)"
      ]
    },
    {
      "cell_type": "code",
      "execution_count": 9,
      "id": "d4db73e6",
      "metadata": {
        "id": "d4db73e6"
      },
      "outputs": [],
      "source": [
        "stemmer=PorterStemmer()"
      ]
    },
    {
      "cell_type": "code",
      "execution_count": 10,
      "id": "09dd6b93",
      "metadata": {
        "colab": {
          "base_uri": "https://localhost:8080/",
          "height": 35
        },
        "id": "09dd6b93",
        "outputId": "a32cdb53-4663-45dd-c3a6-8bd7b2b432b0"
      },
      "outputs": [
        {
          "output_type": "execute_result",
          "data": {
            "text/plain": [
              "'histori'"
            ],
            "application/vnd.google.colaboratory.intrinsic+json": {
              "type": "string"
            }
          },
          "metadata": {},
          "execution_count": 10
        }
      ],
      "source": [
        "stemmer.stem('history')"
      ]
    },
    {
      "cell_type": "code",
      "execution_count": 11,
      "id": "36f61d82",
      "metadata": {
        "id": "36f61d82"
      },
      "outputs": [],
      "source": [
        "from nltk.stem import WordNetLemmatizer"
      ]
    },
    {
      "cell_type": "code",
      "execution_count": 12,
      "id": "c74a1a69",
      "metadata": {
        "id": "c74a1a69"
      },
      "outputs": [],
      "source": [
        "lemmatizer=WordNetLemmatizer()"
      ]
    },
    {
      "cell_type": "code",
      "execution_count": 17,
      "id": "d5b6512b",
      "metadata": {
        "colab": {
          "base_uri": "https://localhost:8080/",
          "height": 1000
        },
        "id": "d5b6512b",
        "outputId": "48789161-223b-4ff2-84e6-05205396caf1"
      },
      "outputs": [
        {
          "output_type": "stream",
          "name": "stderr",
          "text": [
            "[nltk_data] Downloading collection 'all'\n",
            "[nltk_data]    | \n",
            "[nltk_data]    | Downloading package abc to /root/nltk_data...\n",
            "[nltk_data]    |   Unzipping corpora/abc.zip.\n",
            "[nltk_data]    | Downloading package alpino to /root/nltk_data...\n",
            "[nltk_data]    |   Unzipping corpora/alpino.zip.\n",
            "[nltk_data]    | Downloading package averaged_perceptron_tagger to\n",
            "[nltk_data]    |     /root/nltk_data...\n",
            "[nltk_data]    |   Package averaged_perceptron_tagger is already up-\n",
            "[nltk_data]    |       to-date!\n",
            "[nltk_data]    | Downloading package averaged_perceptron_tagger_ru to\n",
            "[nltk_data]    |     /root/nltk_data...\n",
            "[nltk_data]    |   Unzipping\n",
            "[nltk_data]    |       taggers/averaged_perceptron_tagger_ru.zip.\n",
            "[nltk_data]    | Downloading package basque_grammars to\n",
            "[nltk_data]    |     /root/nltk_data...\n",
            "[nltk_data]    |   Unzipping grammars/basque_grammars.zip.\n",
            "[nltk_data]    | Downloading package bcp47 to /root/nltk_data...\n",
            "[nltk_data]    | Downloading package biocreative_ppi to\n",
            "[nltk_data]    |     /root/nltk_data...\n",
            "[nltk_data]    |   Unzipping corpora/biocreative_ppi.zip.\n",
            "[nltk_data]    | Downloading package bllip_wsj_no_aux to\n",
            "[nltk_data]    |     /root/nltk_data...\n",
            "[nltk_data]    |   Unzipping models/bllip_wsj_no_aux.zip.\n",
            "[nltk_data]    | Downloading package book_grammars to\n",
            "[nltk_data]    |     /root/nltk_data...\n",
            "[nltk_data]    |   Unzipping grammars/book_grammars.zip.\n",
            "[nltk_data]    | Downloading package brown to /root/nltk_data...\n",
            "[nltk_data]    |   Unzipping corpora/brown.zip.\n",
            "[nltk_data]    | Downloading package brown_tei to /root/nltk_data...\n",
            "[nltk_data]    |   Unzipping corpora/brown_tei.zip.\n",
            "[nltk_data]    | Downloading package cess_cat to /root/nltk_data...\n",
            "[nltk_data]    |   Unzipping corpora/cess_cat.zip.\n",
            "[nltk_data]    | Downloading package cess_esp to /root/nltk_data...\n",
            "[nltk_data]    |   Unzipping corpora/cess_esp.zip.\n",
            "[nltk_data]    | Downloading package chat80 to /root/nltk_data...\n",
            "[nltk_data]    |   Unzipping corpora/chat80.zip.\n",
            "[nltk_data]    | Downloading package city_database to\n",
            "[nltk_data]    |     /root/nltk_data...\n",
            "[nltk_data]    |   Unzipping corpora/city_database.zip.\n",
            "[nltk_data]    | Downloading package cmudict to /root/nltk_data...\n",
            "[nltk_data]    |   Unzipping corpora/cmudict.zip.\n",
            "[nltk_data]    | Downloading package comparative_sentences to\n",
            "[nltk_data]    |     /root/nltk_data...\n",
            "[nltk_data]    |   Unzipping corpora/comparative_sentences.zip.\n",
            "[nltk_data]    | Downloading package comtrans to /root/nltk_data...\n",
            "[nltk_data]    | Downloading package conll2000 to /root/nltk_data...\n",
            "[nltk_data]    |   Unzipping corpora/conll2000.zip.\n",
            "[nltk_data]    | Downloading package conll2002 to /root/nltk_data...\n",
            "[nltk_data]    |   Unzipping corpora/conll2002.zip.\n",
            "[nltk_data]    | Downloading package conll2007 to /root/nltk_data...\n",
            "[nltk_data]    | Downloading package crubadan to /root/nltk_data...\n",
            "[nltk_data]    |   Unzipping corpora/crubadan.zip.\n",
            "[nltk_data]    | Downloading package dependency_treebank to\n",
            "[nltk_data]    |     /root/nltk_data...\n",
            "[nltk_data]    |   Unzipping corpora/dependency_treebank.zip.\n",
            "[nltk_data]    | Downloading package dolch to /root/nltk_data...\n",
            "[nltk_data]    |   Unzipping corpora/dolch.zip.\n",
            "[nltk_data]    | Downloading package europarl_raw to\n",
            "[nltk_data]    |     /root/nltk_data...\n",
            "[nltk_data]    |   Unzipping corpora/europarl_raw.zip.\n",
            "[nltk_data]    | Downloading package extended_omw to\n",
            "[nltk_data]    |     /root/nltk_data...\n",
            "[nltk_data]    | Downloading package floresta to /root/nltk_data...\n",
            "[nltk_data]    |   Unzipping corpora/floresta.zip.\n",
            "[nltk_data]    | Downloading package framenet_v15 to\n",
            "[nltk_data]    |     /root/nltk_data...\n",
            "[nltk_data]    |   Unzipping corpora/framenet_v15.zip.\n",
            "[nltk_data]    | Downloading package framenet_v17 to\n",
            "[nltk_data]    |     /root/nltk_data...\n",
            "[nltk_data]    |   Unzipping corpora/framenet_v17.zip.\n",
            "[nltk_data]    | Downloading package gazetteers to /root/nltk_data...\n",
            "[nltk_data]    |   Unzipping corpora/gazetteers.zip.\n",
            "[nltk_data]    | Downloading package genesis to /root/nltk_data...\n",
            "[nltk_data]    |   Unzipping corpora/genesis.zip.\n",
            "[nltk_data]    | Downloading package gutenberg to /root/nltk_data...\n",
            "[nltk_data]    |   Unzipping corpora/gutenberg.zip.\n",
            "[nltk_data]    | Downloading package ieer to /root/nltk_data...\n",
            "[nltk_data]    |   Unzipping corpora/ieer.zip.\n",
            "[nltk_data]    | Downloading package inaugural to /root/nltk_data...\n",
            "[nltk_data]    |   Unzipping corpora/inaugural.zip.\n",
            "[nltk_data]    | Downloading package indian to /root/nltk_data...\n",
            "[nltk_data]    |   Unzipping corpora/indian.zip.\n",
            "[nltk_data]    | Downloading package jeita to /root/nltk_data...\n",
            "[nltk_data]    | Downloading package kimmo to /root/nltk_data...\n",
            "[nltk_data]    |   Unzipping corpora/kimmo.zip.\n",
            "[nltk_data]    | Downloading package knbc to /root/nltk_data...\n",
            "[nltk_data]    | Downloading package large_grammars to\n",
            "[nltk_data]    |     /root/nltk_data...\n",
            "[nltk_data]    |   Unzipping grammars/large_grammars.zip.\n",
            "[nltk_data]    | Downloading package lin_thesaurus to\n",
            "[nltk_data]    |     /root/nltk_data...\n",
            "[nltk_data]    |   Unzipping corpora/lin_thesaurus.zip.\n",
            "[nltk_data]    | Downloading package mac_morpho to /root/nltk_data...\n",
            "[nltk_data]    |   Unzipping corpora/mac_morpho.zip.\n",
            "[nltk_data]    | Downloading package machado to /root/nltk_data...\n",
            "[nltk_data]    | Downloading package masc_tagged to /root/nltk_data...\n",
            "[nltk_data]    | Downloading package maxent_ne_chunker to\n",
            "[nltk_data]    |     /root/nltk_data...\n",
            "[nltk_data]    |   Unzipping chunkers/maxent_ne_chunker.zip.\n",
            "[nltk_data]    | Downloading package maxent_treebank_pos_tagger to\n",
            "[nltk_data]    |     /root/nltk_data...\n",
            "[nltk_data]    |   Unzipping taggers/maxent_treebank_pos_tagger.zip.\n",
            "[nltk_data]    | Downloading package moses_sample to\n",
            "[nltk_data]    |     /root/nltk_data...\n",
            "[nltk_data]    |   Unzipping models/moses_sample.zip.\n",
            "[nltk_data]    | Downloading package movie_reviews to\n",
            "[nltk_data]    |     /root/nltk_data...\n",
            "[nltk_data]    |   Unzipping corpora/movie_reviews.zip.\n",
            "[nltk_data]    | Downloading package mte_teip5 to /root/nltk_data...\n",
            "[nltk_data]    |   Unzipping corpora/mte_teip5.zip.\n",
            "[nltk_data]    | Downloading package mwa_ppdb to /root/nltk_data...\n",
            "[nltk_data]    |   Unzipping misc/mwa_ppdb.zip.\n",
            "[nltk_data]    | Downloading package names to /root/nltk_data...\n",
            "[nltk_data]    |   Unzipping corpora/names.zip.\n",
            "[nltk_data]    | Downloading package nombank.1.0 to /root/nltk_data...\n",
            "[nltk_data]    | Downloading package nonbreaking_prefixes to\n",
            "[nltk_data]    |     /root/nltk_data...\n",
            "[nltk_data]    |   Unzipping corpora/nonbreaking_prefixes.zip.\n",
            "[nltk_data]    | Downloading package nps_chat to /root/nltk_data...\n",
            "[nltk_data]    |   Unzipping corpora/nps_chat.zip.\n",
            "[nltk_data]    | Downloading package omw to /root/nltk_data...\n",
            "[nltk_data]    | Downloading package omw-1.4 to /root/nltk_data...\n",
            "[nltk_data]    | Downloading package opinion_lexicon to\n",
            "[nltk_data]    |     /root/nltk_data...\n",
            "[nltk_data]    |   Unzipping corpora/opinion_lexicon.zip.\n",
            "[nltk_data]    | Downloading package panlex_swadesh to\n",
            "[nltk_data]    |     /root/nltk_data...\n",
            "[nltk_data]    | Downloading package paradigms to /root/nltk_data...\n",
            "[nltk_data]    |   Unzipping corpora/paradigms.zip.\n",
            "[nltk_data]    | Downloading package pe08 to /root/nltk_data...\n",
            "[nltk_data]    |   Unzipping corpora/pe08.zip.\n",
            "[nltk_data]    | Downloading package perluniprops to\n",
            "[nltk_data]    |     /root/nltk_data...\n",
            "[nltk_data]    |   Unzipping misc/perluniprops.zip.\n",
            "[nltk_data]    | Downloading package pil to /root/nltk_data...\n",
            "[nltk_data]    |   Unzipping corpora/pil.zip.\n",
            "[nltk_data]    | Downloading package pl196x to /root/nltk_data...\n",
            "[nltk_data]    |   Unzipping corpora/pl196x.zip.\n",
            "[nltk_data]    | Downloading package porter_test to /root/nltk_data...\n",
            "[nltk_data]    |   Unzipping stemmers/porter_test.zip.\n",
            "[nltk_data]    | Downloading package ppattach to /root/nltk_data...\n",
            "[nltk_data]    |   Unzipping corpora/ppattach.zip.\n",
            "[nltk_data]    | Downloading package problem_reports to\n",
            "[nltk_data]    |     /root/nltk_data...\n",
            "[nltk_data]    |   Unzipping corpora/problem_reports.zip.\n",
            "[nltk_data]    | Downloading package product_reviews_1 to\n",
            "[nltk_data]    |     /root/nltk_data...\n",
            "[nltk_data]    |   Unzipping corpora/product_reviews_1.zip.\n",
            "[nltk_data]    | Downloading package product_reviews_2 to\n",
            "[nltk_data]    |     /root/nltk_data...\n",
            "[nltk_data]    |   Unzipping corpora/product_reviews_2.zip.\n",
            "[nltk_data]    | Downloading package propbank to /root/nltk_data...\n",
            "[nltk_data]    | Downloading package pros_cons to /root/nltk_data...\n",
            "[nltk_data]    |   Unzipping corpora/pros_cons.zip.\n",
            "[nltk_data]    | Downloading package ptb to /root/nltk_data...\n",
            "[nltk_data]    |   Unzipping corpora/ptb.zip.\n",
            "[nltk_data]    | Downloading package punkt to /root/nltk_data...\n",
            "[nltk_data]    |   Package punkt is already up-to-date!\n",
            "[nltk_data]    | Downloading package qc to /root/nltk_data...\n",
            "[nltk_data]    |   Unzipping corpora/qc.zip.\n",
            "[nltk_data]    | Downloading package reuters to /root/nltk_data...\n",
            "[nltk_data]    | Downloading package rslp to /root/nltk_data...\n",
            "[nltk_data]    |   Unzipping stemmers/rslp.zip.\n",
            "[nltk_data]    | Downloading package rte to /root/nltk_data...\n",
            "[nltk_data]    |   Unzipping corpora/rte.zip.\n",
            "[nltk_data]    | Downloading package sample_grammars to\n",
            "[nltk_data]    |     /root/nltk_data...\n",
            "[nltk_data]    |   Unzipping grammars/sample_grammars.zip.\n",
            "[nltk_data]    | Downloading package semcor to /root/nltk_data...\n",
            "[nltk_data]    | Downloading package senseval to /root/nltk_data...\n",
            "[nltk_data]    |   Unzipping corpora/senseval.zip.\n",
            "[nltk_data]    | Downloading package sentence_polarity to\n",
            "[nltk_data]    |     /root/nltk_data...\n",
            "[nltk_data]    |   Unzipping corpora/sentence_polarity.zip.\n",
            "[nltk_data]    | Downloading package sentiwordnet to\n",
            "[nltk_data]    |     /root/nltk_data...\n",
            "[nltk_data]    |   Unzipping corpora/sentiwordnet.zip.\n",
            "[nltk_data]    | Downloading package shakespeare to /root/nltk_data...\n",
            "[nltk_data]    |   Unzipping corpora/shakespeare.zip.\n",
            "[nltk_data]    | Downloading package sinica_treebank to\n",
            "[nltk_data]    |     /root/nltk_data...\n",
            "[nltk_data]    |   Unzipping corpora/sinica_treebank.zip.\n",
            "[nltk_data]    | Downloading package smultron to /root/nltk_data...\n",
            "[nltk_data]    |   Unzipping corpora/smultron.zip.\n",
            "[nltk_data]    | Downloading package snowball_data to\n",
            "[nltk_data]    |     /root/nltk_data...\n",
            "[nltk_data]    | Downloading package spanish_grammars to\n",
            "[nltk_data]    |     /root/nltk_data...\n",
            "[nltk_data]    |   Unzipping grammars/spanish_grammars.zip.\n",
            "[nltk_data]    | Downloading package state_union to /root/nltk_data...\n",
            "[nltk_data]    |   Unzipping corpora/state_union.zip.\n",
            "[nltk_data]    | Downloading package stopwords to /root/nltk_data...\n",
            "[nltk_data]    |   Unzipping corpora/stopwords.zip.\n",
            "[nltk_data]    | Downloading package subjectivity to\n",
            "[nltk_data]    |     /root/nltk_data...\n",
            "[nltk_data]    |   Unzipping corpora/subjectivity.zip.\n",
            "[nltk_data]    | Downloading package swadesh to /root/nltk_data...\n",
            "[nltk_data]    |   Unzipping corpora/swadesh.zip.\n",
            "[nltk_data]    | Downloading package switchboard to /root/nltk_data...\n",
            "[nltk_data]    |   Unzipping corpora/switchboard.zip.\n",
            "[nltk_data]    | Downloading package tagsets to /root/nltk_data...\n",
            "[nltk_data]    |   Unzipping help/tagsets.zip.\n",
            "[nltk_data]    | Downloading package timit to /root/nltk_data...\n",
            "[nltk_data]    |   Unzipping corpora/timit.zip.\n",
            "[nltk_data]    | Downloading package toolbox to /root/nltk_data...\n",
            "[nltk_data]    |   Unzipping corpora/toolbox.zip.\n",
            "[nltk_data]    | Downloading package treebank to /root/nltk_data...\n",
            "[nltk_data]    |   Unzipping corpora/treebank.zip.\n",
            "[nltk_data]    | Downloading package twitter_samples to\n",
            "[nltk_data]    |     /root/nltk_data...\n",
            "[nltk_data]    |   Unzipping corpora/twitter_samples.zip.\n",
            "[nltk_data]    | Downloading package udhr to /root/nltk_data...\n",
            "[nltk_data]    |   Unzipping corpora/udhr.zip.\n",
            "[nltk_data]    | Downloading package udhr2 to /root/nltk_data...\n",
            "[nltk_data]    |   Unzipping corpora/udhr2.zip.\n",
            "[nltk_data]    | Downloading package unicode_samples to\n",
            "[nltk_data]    |     /root/nltk_data...\n",
            "[nltk_data]    |   Unzipping corpora/unicode_samples.zip.\n",
            "[nltk_data]    | Downloading package universal_tagset to\n",
            "[nltk_data]    |     /root/nltk_data...\n",
            "[nltk_data]    |   Unzipping taggers/universal_tagset.zip.\n",
            "[nltk_data]    | Downloading package universal_treebanks_v20 to\n",
            "[nltk_data]    |     /root/nltk_data...\n",
            "[nltk_data]    | Downloading package vader_lexicon to\n",
            "[nltk_data]    |     /root/nltk_data...\n",
            "[nltk_data]    | Downloading package verbnet to /root/nltk_data...\n",
            "[nltk_data]    |   Unzipping corpora/verbnet.zip.\n",
            "[nltk_data]    | Downloading package verbnet3 to /root/nltk_data...\n",
            "[nltk_data]    |   Unzipping corpora/verbnet3.zip.\n",
            "[nltk_data]    | Downloading package webtext to /root/nltk_data...\n",
            "[nltk_data]    |   Unzipping corpora/webtext.zip.\n",
            "[nltk_data]    | Downloading package wmt15_eval to /root/nltk_data...\n",
            "[nltk_data]    |   Unzipping models/wmt15_eval.zip.\n",
            "[nltk_data]    | Downloading package word2vec_sample to\n",
            "[nltk_data]    |     /root/nltk_data...\n",
            "[nltk_data]    |   Unzipping models/word2vec_sample.zip.\n",
            "[nltk_data]    | Downloading package wordnet to /root/nltk_data...\n",
            "[nltk_data]    |   Package wordnet is already up-to-date!\n",
            "[nltk_data]    | Downloading package wordnet2021 to /root/nltk_data...\n",
            "[nltk_data]    | Downloading package wordnet2022 to /root/nltk_data...\n",
            "[nltk_data]    |   Unzipping corpora/wordnet2022.zip.\n",
            "[nltk_data]    | Downloading package wordnet31 to /root/nltk_data...\n",
            "[nltk_data]    | Downloading package wordnet_ic to /root/nltk_data...\n",
            "[nltk_data]    |   Unzipping corpora/wordnet_ic.zip.\n",
            "[nltk_data]    | Downloading package words to /root/nltk_data...\n",
            "[nltk_data]    |   Unzipping corpora/words.zip.\n",
            "[nltk_data]    | Downloading package ycoe to /root/nltk_data...\n",
            "[nltk_data]    |   Unzipping corpora/ycoe.zip.\n",
            "[nltk_data]    | \n",
            "[nltk_data]  Done downloading collection all\n"
          ]
        },
        {
          "output_type": "execute_result",
          "data": {
            "text/plain": [
              "'go'"
            ],
            "application/vnd.google.colaboratory.intrinsic+json": {
              "type": "string"
            }
          },
          "metadata": {},
          "execution_count": 17
        }
      ],
      "source": [
        "import nltk\n",
        "nltk.download('all')\n",
        "lemmatizer.lemmatize('goes')"
      ]
    },
    {
      "cell_type": "code",
      "execution_count": 18,
      "id": "63247180",
      "metadata": {
        "colab": {
          "base_uri": "https://localhost:8080/"
        },
        "id": "63247180",
        "outputId": "ad8bdb2a-6c19-4d49-a61e-72a617324bc3"
      },
      "outputs": [
        {
          "output_type": "execute_result",
          "data": {
            "text/plain": [
              "8"
            ]
          },
          "metadata": {},
          "execution_count": 18
        }
      ],
      "source": [
        "len(sentences)"
      ]
    },
    {
      "cell_type": "code",
      "execution_count": 19,
      "id": "58c0b4f3",
      "metadata": {
        "id": "58c0b4f3"
      },
      "outputs": [],
      "source": [
        "import re"
      ]
    },
    {
      "cell_type": "code",
      "execution_count": 20,
      "id": "76da59f7",
      "metadata": {
        "id": "76da59f7"
      },
      "outputs": [],
      "source": [
        "corpus=[]\n",
        "for i in range(len(sentences)):\n",
        "    review=re.sub('[^a-zA-Z]',' ',sentences[i])\n",
        "    review=review.lower()\n",
        "    corpus.append(review)"
      ]
    },
    {
      "cell_type": "code",
      "execution_count": 21,
      "id": "2b63e816",
      "metadata": {
        "colab": {
          "base_uri": "https://localhost:8080/"
        },
        "id": "2b63e816",
        "outputId": "eef44d96-c842-4cca-b9c5-a8c881ab946a"
      },
      "outputs": [
        {
          "output_type": "execute_result",
          "data": {
            "text/plain": [
              "[' natural language processing  nlp  refers to the branch of computer science and more specifically  the branch of artificial intelligence or ai concerned with giving computers the ability to understand text and spoken words in much the same way human beings can ',\n",
              " 'nlp combines computational linguistics rule based modeling of human language with statistical  machine learning  and deep learning models ',\n",
              " 'together  these technologies enable computers to process human language in the form of text or voice data and to  understand  its full meaning  complete with the speaker or writer s intent and sentiment ',\n",
              " 'nlp drives computer programs that translate text from one language to another  respond to spoken commands  and summarize large volumes of text rapidly even in real time ',\n",
              " 'there s a good chance you ve interacted with nlp in the form of voice operated gps systems  digital assistants  speech to text dictation software  customer service chatbots  and other consumer conveniences ',\n",
              " 'but nlp also plays a growing role in enterprise solutions that help streamline business operations  increase employee productivity  and simplify mission critical business processes ',\n",
              " 'human language is filled with ambiguities that make it incredibly difficult to write software that accurately determines the intended meaning of text or voice data ',\n",
              " 'homonyms  homophones  sarcasm  idioms  metaphors  grammar and usage exceptions  variations in sentence structure these just a few of the irregularities of human language that take humans years to learn  but that programmers must teach natural language driven applications to recognize and understand accurately from the start  if those applications are going to be useful ']"
            ]
          },
          "metadata": {},
          "execution_count": 21
        }
      ],
      "source": [
        "corpus"
      ]
    },
    {
      "cell_type": "code",
      "execution_count": 22,
      "id": "4a14a43d",
      "metadata": {
        "colab": {
          "base_uri": "https://localhost:8080/"
        },
        "id": "4a14a43d",
        "outputId": "adc0031f-f3de-4180-e813-ff531e5b21e5"
      },
      "outputs": [
        {
          "output_type": "execute_result",
          "data": {
            "text/plain": [
              "['i',\n",
              " 'me',\n",
              " 'my',\n",
              " 'myself',\n",
              " 'we',\n",
              " 'our',\n",
              " 'ours',\n",
              " 'ourselves',\n",
              " 'you',\n",
              " \"you're\",\n",
              " \"you've\",\n",
              " \"you'll\",\n",
              " \"you'd\",\n",
              " 'your',\n",
              " 'yours',\n",
              " 'yourself',\n",
              " 'yourselves',\n",
              " 'he',\n",
              " 'him',\n",
              " 'his',\n",
              " 'himself',\n",
              " 'she',\n",
              " \"she's\",\n",
              " 'her',\n",
              " 'hers',\n",
              " 'herself',\n",
              " 'it',\n",
              " \"it's\",\n",
              " 'its',\n",
              " 'itself',\n",
              " 'they',\n",
              " 'them',\n",
              " 'their',\n",
              " 'theirs',\n",
              " 'themselves',\n",
              " 'what',\n",
              " 'which',\n",
              " 'who',\n",
              " 'whom',\n",
              " 'this',\n",
              " 'that',\n",
              " \"that'll\",\n",
              " 'these',\n",
              " 'those',\n",
              " 'am',\n",
              " 'is',\n",
              " 'are',\n",
              " 'was',\n",
              " 'were',\n",
              " 'be',\n",
              " 'been',\n",
              " 'being',\n",
              " 'have',\n",
              " 'has',\n",
              " 'had',\n",
              " 'having',\n",
              " 'do',\n",
              " 'does',\n",
              " 'did',\n",
              " 'doing',\n",
              " 'a',\n",
              " 'an',\n",
              " 'the',\n",
              " 'and',\n",
              " 'but',\n",
              " 'if',\n",
              " 'or',\n",
              " 'because',\n",
              " 'as',\n",
              " 'until',\n",
              " 'while',\n",
              " 'of',\n",
              " 'at',\n",
              " 'by',\n",
              " 'for',\n",
              " 'with',\n",
              " 'about',\n",
              " 'against',\n",
              " 'between',\n",
              " 'into',\n",
              " 'through',\n",
              " 'during',\n",
              " 'before',\n",
              " 'after',\n",
              " 'above',\n",
              " 'below',\n",
              " 'to',\n",
              " 'from',\n",
              " 'up',\n",
              " 'down',\n",
              " 'in',\n",
              " 'out',\n",
              " 'on',\n",
              " 'off',\n",
              " 'over',\n",
              " 'under',\n",
              " 'again',\n",
              " 'further',\n",
              " 'then',\n",
              " 'once',\n",
              " 'here',\n",
              " 'there',\n",
              " 'when',\n",
              " 'where',\n",
              " 'why',\n",
              " 'how',\n",
              " 'all',\n",
              " 'any',\n",
              " 'both',\n",
              " 'each',\n",
              " 'few',\n",
              " 'more',\n",
              " 'most',\n",
              " 'other',\n",
              " 'some',\n",
              " 'such',\n",
              " 'no',\n",
              " 'nor',\n",
              " 'not',\n",
              " 'only',\n",
              " 'own',\n",
              " 'same',\n",
              " 'so',\n",
              " 'than',\n",
              " 'too',\n",
              " 'very',\n",
              " 's',\n",
              " 't',\n",
              " 'can',\n",
              " 'will',\n",
              " 'just',\n",
              " 'don',\n",
              " \"don't\",\n",
              " 'should',\n",
              " \"should've\",\n",
              " 'now',\n",
              " 'd',\n",
              " 'll',\n",
              " 'm',\n",
              " 'o',\n",
              " 're',\n",
              " 've',\n",
              " 'y',\n",
              " 'ain',\n",
              " 'aren',\n",
              " \"aren't\",\n",
              " 'couldn',\n",
              " \"couldn't\",\n",
              " 'didn',\n",
              " \"didn't\",\n",
              " 'doesn',\n",
              " \"doesn't\",\n",
              " 'hadn',\n",
              " \"hadn't\",\n",
              " 'hasn',\n",
              " \"hasn't\",\n",
              " 'haven',\n",
              " \"haven't\",\n",
              " 'isn',\n",
              " \"isn't\",\n",
              " 'ma',\n",
              " 'mightn',\n",
              " \"mightn't\",\n",
              " 'mustn',\n",
              " \"mustn't\",\n",
              " 'needn',\n",
              " \"needn't\",\n",
              " 'shan',\n",
              " \"shan't\",\n",
              " 'shouldn',\n",
              " \"shouldn't\",\n",
              " 'wasn',\n",
              " \"wasn't\",\n",
              " 'weren',\n",
              " \"weren't\",\n",
              " 'won',\n",
              " \"won't\",\n",
              " 'wouldn',\n",
              " \"wouldn't\"]"
            ]
          },
          "metadata": {},
          "execution_count": 22
        }
      ],
      "source": [
        "stopwords.words('english')"
      ]
    },
    {
      "cell_type": "code",
      "execution_count": 23,
      "id": "5113ab54",
      "metadata": {
        "colab": {
          "base_uri": "https://localhost:8080/"
        },
        "id": "5113ab54",
        "outputId": "1aee7d0a-b808-4d7e-a390-2e3f11f16a12"
      },
      "outputs": [
        {
          "output_type": "stream",
          "name": "stdout",
          "text": [
            "natur\n",
            "languag\n",
            "process\n",
            "nlp\n",
            "refer\n",
            "branch\n",
            "comput\n",
            "scienc\n",
            "specif\n",
            "branch\n",
            "artifici\n",
            "intellig\n",
            "ai\n",
            "concern\n",
            "give\n",
            "comput\n",
            "abil\n",
            "understand\n",
            "text\n",
            "spoken\n",
            "word\n",
            "much\n",
            "way\n",
            "human\n",
            "be\n",
            "nlp\n",
            "combin\n",
            "comput\n",
            "linguist\n",
            "rule\n",
            "base\n",
            "model\n",
            "human\n",
            "languag\n",
            "statist\n",
            "machin\n",
            "learn\n",
            "deep\n",
            "learn\n",
            "model\n",
            "togeth\n",
            "technolog\n",
            "enabl\n",
            "comput\n",
            "process\n",
            "human\n",
            "languag\n",
            "form\n",
            "text\n",
            "voic\n",
            "data\n",
            "understand\n",
            "full\n",
            "mean\n",
            "complet\n",
            "speaker\n",
            "writer\n",
            "intent\n",
            "sentiment\n",
            "nlp\n",
            "drive\n",
            "comput\n",
            "program\n",
            "translat\n",
            "text\n",
            "one\n",
            "languag\n",
            "anoth\n",
            "respond\n",
            "spoken\n",
            "command\n",
            "summar\n",
            "larg\n",
            "volum\n",
            "text\n",
            "rapidli\n",
            "even\n",
            "real\n",
            "time\n",
            "good\n",
            "chanc\n",
            "interact\n",
            "nlp\n",
            "form\n",
            "voic\n",
            "oper\n",
            "gp\n",
            "system\n",
            "digit\n",
            "assist\n",
            "speech\n",
            "text\n",
            "dictat\n",
            "softwar\n",
            "custom\n",
            "servic\n",
            "chatbot\n",
            "consum\n",
            "conveni\n",
            "nlp\n",
            "also\n",
            "play\n",
            "grow\n",
            "role\n",
            "enterpris\n",
            "solut\n",
            "help\n",
            "streamlin\n",
            "busi\n",
            "oper\n",
            "increas\n",
            "employe\n",
            "product\n",
            "simplifi\n",
            "mission\n",
            "critic\n",
            "busi\n",
            "process\n",
            "human\n",
            "languag\n",
            "fill\n",
            "ambigu\n",
            "make\n",
            "incred\n",
            "difficult\n",
            "write\n",
            "softwar\n",
            "accur\n",
            "determin\n",
            "intend\n",
            "mean\n",
            "text\n",
            "voic\n",
            "data\n",
            "homonym\n",
            "homophon\n",
            "sarcasm\n",
            "idiom\n",
            "metaphor\n",
            "grammar\n",
            "usag\n",
            "except\n",
            "variat\n",
            "sentenc\n",
            "structur\n",
            "irregular\n",
            "human\n",
            "languag\n",
            "take\n",
            "human\n",
            "year\n",
            "learn\n",
            "programm\n",
            "must\n",
            "teach\n",
            "natur\n",
            "languag\n",
            "driven\n",
            "applic\n",
            "recogn\n",
            "understand\n",
            "accur\n",
            "start\n",
            "applic\n",
            "go\n",
            "use\n"
          ]
        }
      ],
      "source": [
        "## stemming\n",
        "for i in corpus:\n",
        "    words=nltk.word_tokenize(i)\n",
        "    for word in words:\n",
        "        if word not in set(stopwords.words('english')):\n",
        "            print(stemmer.stem(word))"
      ]
    },
    {
      "cell_type": "code",
      "execution_count": 24,
      "id": "72989376",
      "metadata": {
        "colab": {
          "base_uri": "https://localhost:8080/"
        },
        "id": "72989376",
        "outputId": "fbac2dd0-3cc1-44e2-bcec-2192f260ab9b"
      },
      "outputs": [
        {
          "output_type": "stream",
          "name": "stdout",
          "text": [
            "natural\n",
            "language\n",
            "processing\n",
            "nlp\n",
            "refers\n",
            "branch\n",
            "computer\n",
            "science\n",
            "specifically\n",
            "branch\n",
            "artificial\n",
            "intelligence\n",
            "ai\n",
            "concerned\n",
            "giving\n",
            "computer\n",
            "ability\n",
            "understand\n",
            "text\n",
            "spoken\n",
            "word\n",
            "much\n",
            "way\n",
            "human\n",
            "being\n",
            "nlp\n",
            "combine\n",
            "computational\n",
            "linguistics\n",
            "rule\n",
            "based\n",
            "modeling\n",
            "human\n",
            "language\n",
            "statistical\n",
            "machine\n",
            "learning\n",
            "deep\n",
            "learning\n",
            "model\n",
            "together\n",
            "technology\n",
            "enable\n",
            "computer\n",
            "process\n",
            "human\n",
            "language\n",
            "form\n",
            "text\n",
            "voice\n",
            "data\n",
            "understand\n",
            "full\n",
            "meaning\n",
            "complete\n",
            "speaker\n",
            "writer\n",
            "intent\n",
            "sentiment\n",
            "nlp\n",
            "drive\n",
            "computer\n",
            "program\n",
            "translate\n",
            "text\n",
            "one\n",
            "language\n",
            "another\n",
            "respond\n",
            "spoken\n",
            "command\n",
            "summarize\n",
            "large\n",
            "volume\n",
            "text\n",
            "rapidly\n",
            "even\n",
            "real\n",
            "time\n",
            "good\n",
            "chance\n",
            "interacted\n",
            "nlp\n",
            "form\n",
            "voice\n",
            "operated\n",
            "gps\n",
            "system\n",
            "digital\n",
            "assistant\n",
            "speech\n",
            "text\n",
            "dictation\n",
            "software\n",
            "customer\n",
            "service\n",
            "chatbots\n",
            "consumer\n",
            "convenience\n",
            "nlp\n",
            "also\n",
            "play\n",
            "growing\n",
            "role\n",
            "enterprise\n",
            "solution\n",
            "help\n",
            "streamline\n",
            "business\n",
            "operation\n",
            "increase\n",
            "employee\n",
            "productivity\n",
            "simplify\n",
            "mission\n",
            "critical\n",
            "business\n",
            "process\n",
            "human\n",
            "language\n",
            "filled\n",
            "ambiguity\n",
            "make\n",
            "incredibly\n",
            "difficult\n",
            "write\n",
            "software\n",
            "accurately\n",
            "determines\n",
            "intended\n",
            "meaning\n",
            "text\n",
            "voice\n",
            "data\n",
            "homonym\n",
            "homophone\n",
            "sarcasm\n",
            "idiom\n",
            "metaphor\n",
            "grammar\n",
            "usage\n",
            "exception\n",
            "variation\n",
            "sentence\n",
            "structure\n",
            "irregularity\n",
            "human\n",
            "language\n",
            "take\n",
            "human\n",
            "year\n",
            "learn\n",
            "programmer\n",
            "must\n",
            "teach\n",
            "natural\n",
            "language\n",
            "driven\n",
            "application\n",
            "recognize\n",
            "understand\n",
            "accurately\n",
            "start\n",
            "application\n",
            "going\n",
            "useful\n"
          ]
        }
      ],
      "source": [
        "## lemmatization\n",
        "for i in corpus:\n",
        "    words=nltk.word_tokenize(i)\n",
        "    for word in words:\n",
        "        if word not in set(stopwords.words('english')):\n",
        "            print(lemmatizer.lemmatize(word))"
      ]
    },
    {
      "cell_type": "code",
      "execution_count": 25,
      "id": "2b9014b8",
      "metadata": {
        "id": "2b9014b8"
      },
      "outputs": [],
      "source": [
        "## Apply Stopswords. Lemmatize\n",
        "import re\n",
        "corpus = []\n",
        "for i in range(len(sentences)):\n",
        "    review = re.sub('[^a-zA-Z]', ' ', sentences[i])\n",
        "    review = review.lower()\n",
        "    review = review.split()\n",
        "    review = [lemmatizer.lemmatize(word) for word in review if not word in set(stopwords.words('english'))]\n",
        "    review = ' '.join(review)\n",
        "    corpus.append(review)"
      ]
    },
    {
      "cell_type": "code",
      "execution_count": 26,
      "id": "6a12efee",
      "metadata": {
        "id": "6a12efee"
      },
      "outputs": [],
      "source": [
        "from sklearn.feature_extraction.text import CountVectorizer\n",
        "cv=CountVectorizer(binary=True)"
      ]
    },
    {
      "cell_type": "code",
      "execution_count": 27,
      "id": "a6b87e09",
      "metadata": {
        "id": "a6b87e09"
      },
      "outputs": [],
      "source": [
        "X=cv.fit_transform(corpus)"
      ]
    },
    {
      "cell_type": "code",
      "execution_count": 28,
      "id": "2f24d1d1",
      "metadata": {
        "colab": {
          "base_uri": "https://localhost:8080/"
        },
        "id": "2f24d1d1",
        "outputId": "1f9502ac-20eb-4455-e400-f3e6b0081841"
      },
      "outputs": [
        {
          "output_type": "execute_result",
          "data": {
            "text/plain": [
              "{'natural': 73,\n",
              " 'language': 59,\n",
              " 'processing': 80,\n",
              " 'nlp': 74,\n",
              " 'refers': 87,\n",
              " 'branch': 11,\n",
              " 'computer': 19,\n",
              " 'science': 92,\n",
              " 'specifically': 100,\n",
              " 'artificial': 7,\n",
              " 'intelligence': 54,\n",
              " 'ai': 2,\n",
              " 'concerned': 20,\n",
              " 'giving': 41,\n",
              " 'ability': 0,\n",
              " 'understand': 116,\n",
              " 'text': 112,\n",
              " 'spoken': 102,\n",
              " 'word': 123,\n",
              " 'much': 71,\n",
              " 'way': 122,\n",
              " 'human': 50,\n",
              " 'being': 10,\n",
              " 'combine': 15,\n",
              " 'computational': 18,\n",
              " 'linguistics': 63,\n",
              " 'rule': 90,\n",
              " 'based': 9,\n",
              " 'modeling': 70,\n",
              " 'statistical': 104,\n",
              " 'machine': 64,\n",
              " 'learning': 62,\n",
              " 'deep': 26,\n",
              " 'model': 69,\n",
              " 'together': 114,\n",
              " 'technology': 111,\n",
              " 'enable': 34,\n",
              " 'process': 79,\n",
              " 'form': 39,\n",
              " 'voice': 120,\n",
              " 'data': 25,\n",
              " 'full': 40,\n",
              " 'meaning': 66,\n",
              " 'complete': 17,\n",
              " 'speaker': 99,\n",
              " 'writer': 125,\n",
              " 'intent': 56,\n",
              " 'sentiment': 94,\n",
              " 'drive': 31,\n",
              " 'program': 82,\n",
              " 'translate': 115,\n",
              " 'one': 75,\n",
              " 'another': 5,\n",
              " 'respond': 88,\n",
              " 'command': 16,\n",
              " 'summarize': 107,\n",
              " 'large': 60,\n",
              " 'volume': 121,\n",
              " 'rapidly': 84,\n",
              " 'even': 36,\n",
              " 'real': 85,\n",
              " 'time': 113,\n",
              " 'good': 43,\n",
              " 'chance': 13,\n",
              " 'interacted': 57,\n",
              " 'operated': 76,\n",
              " 'gps': 44,\n",
              " 'system': 108,\n",
              " 'digital': 30,\n",
              " 'assistant': 8,\n",
              " 'speech': 101,\n",
              " 'dictation': 28,\n",
              " 'software': 97,\n",
              " 'customer': 24,\n",
              " 'service': 95,\n",
              " 'chatbots': 14,\n",
              " 'consumer': 21,\n",
              " 'convenience': 22,\n",
              " 'also': 3,\n",
              " 'play': 78,\n",
              " 'growing': 46,\n",
              " 'role': 89,\n",
              " 'enterprise': 35,\n",
              " 'solution': 98,\n",
              " 'help': 47,\n",
              " 'streamline': 105,\n",
              " 'business': 12,\n",
              " 'operation': 77,\n",
              " 'increase': 52,\n",
              " 'employee': 33,\n",
              " 'productivity': 81,\n",
              " 'simplify': 96,\n",
              " 'mission': 68,\n",
              " 'critical': 23,\n",
              " 'filled': 38,\n",
              " 'ambiguity': 4,\n",
              " 'make': 65,\n",
              " 'incredibly': 53,\n",
              " 'difficult': 29,\n",
              " 'write': 124,\n",
              " 'accurately': 1,\n",
              " 'determines': 27,\n",
              " 'intended': 55,\n",
              " 'homonym': 48,\n",
              " 'homophone': 49,\n",
              " 'sarcasm': 91,\n",
              " 'idiom': 51,\n",
              " 'metaphor': 67,\n",
              " 'grammar': 45,\n",
              " 'usage': 117,\n",
              " 'exception': 37,\n",
              " 'variation': 119,\n",
              " 'sentence': 93,\n",
              " 'structure': 106,\n",
              " 'irregularity': 58,\n",
              " 'take': 109,\n",
              " 'year': 126,\n",
              " 'learn': 61,\n",
              " 'programmer': 83,\n",
              " 'must': 72,\n",
              " 'teach': 110,\n",
              " 'driven': 32,\n",
              " 'application': 6,\n",
              " 'recognize': 86,\n",
              " 'start': 103,\n",
              " 'going': 42,\n",
              " 'useful': 118}"
            ]
          },
          "metadata": {},
          "execution_count": 28
        }
      ],
      "source": [
        "cv.vocabulary_"
      ]
    },
    {
      "cell_type": "code",
      "execution_count": 29,
      "id": "94132d93",
      "metadata": {
        "colab": {
          "base_uri": "https://localhost:8080/",
          "height": 52
        },
        "id": "94132d93",
        "outputId": "cd19f4d6-999a-4589-ba44-78cdaa602686"
      },
      "outputs": [
        {
          "output_type": "execute_result",
          "data": {
            "text/plain": [
              "'natural language processing nlp refers branch computer science specifically branch artificial intelligence ai concerned giving computer ability understand text spoken word much way human being'"
            ],
            "application/vnd.google.colaboratory.intrinsic+json": {
              "type": "string"
            }
          },
          "metadata": {},
          "execution_count": 29
        }
      ],
      "source": [
        "corpus[0]"
      ]
    },
    {
      "cell_type": "code",
      "execution_count": 30,
      "id": "50ae4fbc",
      "metadata": {
        "colab": {
          "base_uri": "https://localhost:8080/"
        },
        "id": "50ae4fbc",
        "outputId": "c014c451-2b57-4ff8-db0a-203153020023"
      },
      "outputs": [
        {
          "output_type": "execute_result",
          "data": {
            "text/plain": [
              "array([[1, 0, 1, 0, 0, 0, 0, 1, 0, 0, 1, 1, 0, 0, 0, 0, 0, 0, 0, 1, 1, 0,\n",
              "        0, 0, 0, 0, 0, 0, 0, 0, 0, 0, 0, 0, 0, 0, 0, 0, 0, 0, 0, 1, 0, 0,\n",
              "        0, 0, 0, 0, 0, 0, 1, 0, 0, 0, 1, 0, 0, 0, 0, 1, 0, 0, 0, 0, 0, 0,\n",
              "        0, 0, 0, 0, 0, 1, 0, 1, 1, 0, 0, 0, 0, 0, 1, 0, 0, 0, 0, 0, 0, 1,\n",
              "        0, 0, 0, 0, 1, 0, 0, 0, 0, 0, 0, 0, 1, 0, 1, 0, 0, 0, 0, 0, 0, 0,\n",
              "        0, 0, 1, 0, 0, 0, 1, 0, 0, 0, 0, 0, 1, 1, 0, 0, 0]])"
            ]
          },
          "metadata": {},
          "execution_count": 30
        }
      ],
      "source": [
        "X[0].toarray()"
      ]
    },
    {
      "cell_type": "code",
      "execution_count": 31,
      "id": "7fdcbbae",
      "metadata": {
        "id": "7fdcbbae"
      },
      "outputs": [],
      "source": [
        "from sklearn.feature_extraction.text import TfidfVectorizer\n",
        "cv=TfidfVectorizer(ngram_range=(1,1),max_features=10)\n",
        "X=cv.fit_transform(corpus)"
      ]
    },
    {
      "cell_type": "code",
      "source": [
        "corpus[0]"
      ],
      "metadata": {
        "colab": {
          "base_uri": "https://localhost:8080/",
          "height": 52
        },
        "id": "sw7qozFfxwak",
        "outputId": "970735a7-0cea-4365-b065-9a51fabe1ec9"
      },
      "id": "sw7qozFfxwak",
      "execution_count": 32,
      "outputs": [
        {
          "output_type": "execute_result",
          "data": {
            "text/plain": [
              "'natural language processing nlp refers branch computer science specifically branch artificial intelligence ai concerned giving computer ability understand text spoken word much way human being'"
            ],
            "application/vnd.google.colaboratory.intrinsic+json": {
              "type": "string"
            }
          },
          "metadata": {},
          "execution_count": 32
        }
      ]
    },
    {
      "cell_type": "code",
      "source": [
        "X[0].toarray()"
      ],
      "metadata": {
        "colab": {
          "base_uri": "https://localhost:8080/"
        },
        "id": "VIuB3vZNxyyF",
        "outputId": "a51c4552-87e1-4e22-c0af-e4c50e8c343c"
      },
      "id": "VIuB3vZNxyyF",
      "execution_count": 33,
      "outputs": [
        {
          "output_type": "execute_result",
          "data": {
            "text/plain": [
              "array([[0.68091032, 0.26422766, 0.23524731, 0.        , 0.26422766,\n",
              "        0.        , 0.39453943, 0.26422766, 0.34045516, 0.        ]])"
            ]
          },
          "metadata": {},
          "execution_count": 33
        }
      ]
    }
  ],
  "metadata": {
    "kernelspec": {
      "display_name": "Python 3 (ipykernel)",
      "language": "python",
      "name": "python3"
    },
    "language_info": {
      "codemirror_mode": {
        "name": "ipython",
        "version": 3
      },
      "file_extension": ".py",
      "mimetype": "text/x-python",
      "name": "python",
      "nbconvert_exporter": "python",
      "pygments_lexer": "ipython3",
      "version": "3.9.7"
    },
    "colab": {
      "provenance": []
    }
  },
  "nbformat": 4,
  "nbformat_minor": 5
}